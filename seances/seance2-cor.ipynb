{
 "cells": [
  {
   "cell_type": "markdown",
   "metadata": {},
   "source": [
    "# Séance n°2 : if (si), for (pour), while (tant que)"
   ]
  },
  {
   "cell_type": "markdown",
   "metadata": {},
   "source": [
    "## 1 - L'instruction conditionnelle *if*"
   ]
  },
  {
   "cell_type": "markdown",
   "metadata": {},
   "source": [
    "Pour aiguiller dans différentes directions lʼexécution dʼun programme, il est possible dʼavoir recours à des **instructions conditionnelles** qui permettent de déterminer si les instructions qui suivent doivent être, ou non, exécutées. Pour cela, le mot clé **if** est utilisé en Python. Voici quelques exemples."
   ]
  },
  {
   "cell_type": "markdown",
   "metadata": {},
   "source": [
    "### Une seule condition"
   ]
  },
  {
   "cell_type": "code",
   "execution_count": 2,
   "metadata": {},
   "outputs": [
    {
     "name": "stdout",
     "output_type": "stream",
     "text": [
      "Entrer un nombre entier : 6\n",
      "12\n"
     ]
    }
   ],
   "source": [
    "n = int(input(\"Entrer un nombre entier : \"))\n",
    "if n>=3:\n",
    "    m=2*n\n",
    "    print(m)"
   ]
  },
  {
   "cell_type": "markdown",
   "metadata": {},
   "source": [
    "### Une condition et une alternative"
   ]
  },
  {
   "cell_type": "code",
   "execution_count": 3,
   "metadata": {},
   "outputs": [
    {
     "name": "stdout",
     "output_type": "stream",
     "text": [
      "Entrer un nombre entier : 2\n",
      "7\n"
     ]
    }
   ],
   "source": [
    "n = int(input(\"Entrer un nombre entier : \"))\n",
    "if n>=3:\n",
    "    m=2*n\n",
    "    print(m)\n",
    "else:\n",
    "    m=3*n+1\n",
    "    print(m)"
   ]
  },
  {
   "cell_type": "markdown",
   "metadata": {},
   "source": [
    "### Deux conditions ou plus"
   ]
  },
  {
   "cell_type": "code",
   "execution_count": 4,
   "metadata": {},
   "outputs": [
    {
     "name": "stdout",
     "output_type": "stream",
     "text": [
      "Entrer un nombre entier : 3\n",
      "-1\n"
     ]
    }
   ],
   "source": [
    "n = int(input(\"Entrer un nombre entier : \"))\n",
    "if n<=2:\n",
    "    m=2*n\n",
    "    print(m)\n",
    "elif 2<n<5:\n",
    "    m=-2*n+5\n",
    "    print(m)\n",
    "else:\n",
    "    m=n**2\n",
    "    print(m)"
   ]
  },
  {
   "cell_type": "markdown",
   "metadata": {},
   "source": [
    "Les mots clés « alors » et « finsi » nʼexistent pas en Python. Cʼest lʼindentation, cʼest à dire le décalage automatique du retour à la ligne vers la droite qui les remplace.\n",
    "\n",
    "**Pour tester l'égalité de deux valeurs en python on peut utiliser le signe \"==\" :**"
   ]
  },
  {
   "cell_type": "code",
   "execution_count": 5,
   "metadata": {},
   "outputs": [
    {
     "name": "stdout",
     "output_type": "stream",
     "text": [
      "Entrer votre nom en majuscules : GNIADY\n",
      "Bonjour maître\n"
     ]
    }
   ],
   "source": [
    "nom = str(input(\"Entrer votre nom en majuscules : \"))\n",
    "if nom == \"GNIADY\" :\n",
    "    print(\"Bonjour maître\")\n",
    "else:\n",
    "    print(\"salut l'inconnu\")"
   ]
  },
  {
   "cell_type": "code",
   "execution_count": 6,
   "metadata": {},
   "outputs": [
    {
     "name": "stdout",
     "output_type": "stream",
     "text": [
      "Entrer un nombre entier : 9\n",
      "9 n'est pas divisible par 5\n"
     ]
    }
   ],
   "source": [
    "n = int(input(\"Entrer un nombre entier : \"))\n",
    "if n%5==0:\n",
    "    print(n,\"est divisible par 5\")\n",
    "else:\n",
    "    print(n,\"n'est pas divisible par 5\")"
   ]
  },
  {
   "cell_type": "markdown",
   "metadata": {},
   "source": [
    "### Exercice n°1"
   ]
  },
  {
   "cell_type": "markdown",
   "metadata": {},
   "source": [
    "Dans une école de rugby, il y a quatres groupes :\n",
    "- le groupe U8 pour les joueurs entre 8 ans inclus et 10 ans exclus;\n",
    "- le groupe U10 pour les joueurs entre 10 ans inclus et 12 ans exclus;\n",
    "- le groupe U12 pour les joueurs entre 12 ans inclus et 14 ans exclus;\n",
    "- le groupe U14 pour les joueurs entre 14 ans inclus et 16 ans exclus;\n",
    "\n",
    "Ecrire un script demandant à l'utilisateur son âge et lui affichant le groupe auquel il appartient."
   ]
  },
  {
   "cell_type": "code",
   "execution_count": 10,
   "metadata": {},
   "outputs": [
    {
     "name": "stdout",
     "output_type": "stream",
     "text": [
      "Quel est ton âge ? 13\n",
      "Ton groupe est U12\n"
     ]
    }
   ],
   "source": [
    "age = float(input(\"Quel est ton âge ? \"))\n",
    "if age<8:\n",
    "    print(\"Tu es trop jeune !\")\n",
    "elif 8<=age<10:\n",
    "    print(\"Ton groupe est U8\")\n",
    "elif 10<=age<12:\n",
    "    print(\"Ton groupe est U10\")  \n",
    "elif 12<=age<14:\n",
    "    print(\"Ton groupe est U12\")  \n",
    "elif 14<=age<16:\n",
    "    print(\"Ton groupe est U14\")  \n",
    "else:\n",
    "    print(\"Tu n'entres dans aucun groupe !?\")"
   ]
  },
  {
   "cell_type": "markdown",
   "metadata": {},
   "source": [
    "### Exercice n°2"
   ]
  },
  {
   "cell_type": "markdown",
   "metadata": {},
   "source": [
    "1) Ecrire un script qui retourne «nul» si le nombre réel choisi par l'utilisateur est nul et lʼinverse du nombre réel *x* sʼil est non nul.\n",
    "\n",
    "2) La fonction **round(variable,nombre_de_decimales)** affiche le nombre de decimales souhaite pour la variable. Modifier le script pour que la variable soit arrondie à 10^-3"
   ]
  },
  {
   "cell_type": "code",
   "execution_count": 14,
   "metadata": {},
   "outputs": [
    {
     "name": "stdout",
     "output_type": "stream",
     "text": [
      "De quel nombre veux-tu calculer l'inverse ? 1.5\n",
      "L'inverse de ce nombre (arrondi au millième) est : 0.667\n"
     ]
    }
   ],
   "source": [
    "x = float(input(\"De quel nombre veux-tu calculer l'inverse ? \"))\n",
    "if x==0:\n",
    "    print(\"Ce nombre est nul ! On ne peut pas calculer son inverse !\")\n",
    "else:\n",
    "    print(\"L'inverse de ce nombre (arrondi au millième) est :\",round(1/x,3))"
   ]
  },
  {
   "cell_type": "markdown",
   "metadata": {},
   "source": [
    "### Exercice n°3"
   ]
  },
  {
   "cell_type": "markdown",
   "metadata": {},
   "source": [
    "On donne la fonction affine par morceau *f* definie par :\n",
    "\\begin{equation}\n",
    "f(x) =\n",
    "\\begin{cases} 2x+1 \\quad si\\, x<-1\\\\ -x+2 \\quad si\\, -1\\le x\\leq0\\\\ -3x+2 \\quad si\\, x>0\\end{cases}\n",
    "\\end{equation}\n",
    "Ecrire un script permettant de calculer lʼimage dʼun nombre x par *f*."
   ]
  },
  {
   "cell_type": "code",
   "execution_count": 18,
   "metadata": {},
   "outputs": [
    {
     "name": "stdout",
     "output_type": "stream",
     "text": [
      "Choisir un nombre :5\n",
      "f( 5.0 )= -13.0\n"
     ]
    }
   ],
   "source": [
    "x = float(input(\"Choisir un nombre :\"))\n",
    "if x<-1:\n",
    "    print(\"f(\",x,\")=\",2*x+1)\n",
    "elif -1<=x<=0:\n",
    "    print(\"f(\",x,\")=\",-x+2)\n",
    "else:\n",
    "    print(\"f(\",x,\")=\",-3*x+2)"
   ]
  },
  {
   "cell_type": "markdown",
   "metadata": {},
   "source": [
    "## 2 - La boucle bornée *for*"
   ]
  },
  {
   "cell_type": "markdown",
   "metadata": {},
   "source": [
    "Il est parfois utile dans un programme de repeter une ou plusieurs instructions un nombre défini de fois. Lorsque le nombre de répétitions **est connu à l'avance**, on utilise une boucle bornee **for**.\n",
    "\n",
    "**Syntaxe :**\n",
    "\n",
    "For variable in range():\n",
    "\n",
    "Instruction(s)\n",
    "\n",
    "La fonction range() permet dʼénumérer le nombre de passages dans la boucle. Elle peut être appelée de plusieurs façons :\n",
    "\n",
    "- Range(n), ou n est un entier, fait prendre à la variable les valeurs de 0 à n-1, donc n passages dans la boucle.\n",
    "- Range(n,m), fait prendre les valeurs entieres de n à m-1\n",
    "- Range(n,m,k), fait prendre les valeurs de n à m-1 avec un pas de k."
   ]
  },
  {
   "cell_type": "code",
   "execution_count": 12,
   "metadata": {},
   "outputs": [
    {
     "name": "stdout",
     "output_type": "stream",
     "text": [
      "0\n",
      "1\n",
      "2\n",
      "3\n",
      "4\n"
     ]
    }
   ],
   "source": [
    "for i in range(5):\n",
    "    print(i)"
   ]
  },
  {
   "cell_type": "code",
   "execution_count": 13,
   "metadata": {},
   "outputs": [
    {
     "name": "stdout",
     "output_type": "stream",
     "text": [
      "12\n",
      "13\n",
      "14\n",
      "15\n"
     ]
    }
   ],
   "source": [
    "for i in range(12,16):\n",
    "    print(i)"
   ]
  },
  {
   "cell_type": "code",
   "execution_count": 15,
   "metadata": {},
   "outputs": [
    {
     "name": "stdout",
     "output_type": "stream",
     "text": [
      "0\n",
      "10\n",
      "20\n",
      "30\n",
      "40\n",
      "50\n",
      "60\n",
      "70\n",
      "80\n",
      "90\n"
     ]
    }
   ],
   "source": [
    "for i in range(0,100,10):\n",
    "    print(i)"
   ]
  },
  {
   "cell_type": "markdown",
   "metadata": {},
   "source": [
    "### Exercice n°4"
   ]
  },
  {
   "cell_type": "markdown",
   "metadata": {},
   "source": [
    "Ecrire un programme qui affiche la table de multiplication de 5 sous la forme \n",
    "\n",
    "5 x 1 = 5\n",
    "\n",
    "5 x 2 = 10\n",
    "\n",
    "..."
   ]
  },
  {
   "cell_type": "code",
   "execution_count": 2,
   "metadata": {},
   "outputs": [
    {
     "name": "stdout",
     "output_type": "stream",
     "text": [
      "1 x 5 = 5\n",
      "2 x 5 = 10\n",
      "3 x 5 = 15\n",
      "4 x 5 = 20\n",
      "5 x 5 = 25\n",
      "6 x 5 = 30\n",
      "7 x 5 = 35\n",
      "8 x 5 = 40\n",
      "9 x 5 = 45\n",
      "10 x 5 = 50\n"
     ]
    }
   ],
   "source": [
    "for i in range(1,11):\n",
    "    print(i,\"x 5 =\",i*5)"
   ]
  },
  {
   "cell_type": "markdown",
   "metadata": {},
   "source": [
    "### Exercice n°5"
   ]
  },
  {
   "cell_type": "markdown",
   "metadata": {},
   "source": [
    "On veut écrire un script qui compte de nombre de \"a\" dans une phrase. Compléter le script suivant :"
   ]
  },
  {
   "cell_type": "code",
   "execution_count": 22,
   "metadata": {},
   "outputs": [
    {
     "name": "stdout",
     "output_type": "stream",
     "text": [
      "il y a 6 a dans la phrase\n"
     ]
    }
   ],
   "source": [
    "phrase = \"j'aime les maaaaaths\"\n",
    "nbre_de_a = 0\n",
    "for lettre in phrase :\n",
    "    if lettre==\"a\"       :\n",
    "        nbre_de_a = nbre_de_a + 1\n",
    "print(\"il y a\",nbre_de_a,\"a dans la phrase\")"
   ]
  },
  {
   "cell_type": "markdown",
   "metadata": {},
   "source": [
    "### Exercice n°6"
   ]
  },
  {
   "cell_type": "markdown",
   "metadata": {},
   "source": [
    "Ecrire un programme qui affiche les 100 premiers multiples d'un nombre choisi par l'utilisateur."
   ]
  },
  {
   "cell_type": "code",
   "execution_count": 23,
   "metadata": {},
   "outputs": [
    {
     "name": "stdout",
     "output_type": "stream",
     "text": [
      "Choisir un nombre :5\n",
      "1 x 5.0 = 5.0\n",
      "2 x 5.0 = 10.0\n",
      "3 x 5.0 = 15.0\n",
      "4 x 5.0 = 20.0\n",
      "5 x 5.0 = 25.0\n",
      "6 x 5.0 = 30.0\n",
      "7 x 5.0 = 35.0\n",
      "8 x 5.0 = 40.0\n",
      "9 x 5.0 = 45.0\n",
      "10 x 5.0 = 50.0\n",
      "11 x 5.0 = 55.0\n",
      "12 x 5.0 = 60.0\n",
      "13 x 5.0 = 65.0\n",
      "14 x 5.0 = 70.0\n",
      "15 x 5.0 = 75.0\n",
      "16 x 5.0 = 80.0\n",
      "17 x 5.0 = 85.0\n",
      "18 x 5.0 = 90.0\n",
      "19 x 5.0 = 95.0\n",
      "20 x 5.0 = 100.0\n",
      "21 x 5.0 = 105.0\n",
      "22 x 5.0 = 110.0\n",
      "23 x 5.0 = 115.0\n",
      "24 x 5.0 = 120.0\n",
      "25 x 5.0 = 125.0\n",
      "26 x 5.0 = 130.0\n",
      "27 x 5.0 = 135.0\n",
      "28 x 5.0 = 140.0\n",
      "29 x 5.0 = 145.0\n",
      "30 x 5.0 = 150.0\n",
      "31 x 5.0 = 155.0\n",
      "32 x 5.0 = 160.0\n",
      "33 x 5.0 = 165.0\n",
      "34 x 5.0 = 170.0\n",
      "35 x 5.0 = 175.0\n",
      "36 x 5.0 = 180.0\n",
      "37 x 5.0 = 185.0\n",
      "38 x 5.0 = 190.0\n",
      "39 x 5.0 = 195.0\n",
      "40 x 5.0 = 200.0\n",
      "41 x 5.0 = 205.0\n",
      "42 x 5.0 = 210.0\n",
      "43 x 5.0 = 215.0\n",
      "44 x 5.0 = 220.0\n",
      "45 x 5.0 = 225.0\n",
      "46 x 5.0 = 230.0\n",
      "47 x 5.0 = 235.0\n",
      "48 x 5.0 = 240.0\n",
      "49 x 5.0 = 245.0\n",
      "50 x 5.0 = 250.0\n",
      "51 x 5.0 = 255.0\n",
      "52 x 5.0 = 260.0\n",
      "53 x 5.0 = 265.0\n",
      "54 x 5.0 = 270.0\n",
      "55 x 5.0 = 275.0\n",
      "56 x 5.0 = 280.0\n",
      "57 x 5.0 = 285.0\n",
      "58 x 5.0 = 290.0\n",
      "59 x 5.0 = 295.0\n",
      "60 x 5.0 = 300.0\n",
      "61 x 5.0 = 305.0\n",
      "62 x 5.0 = 310.0\n",
      "63 x 5.0 = 315.0\n",
      "64 x 5.0 = 320.0\n",
      "65 x 5.0 = 325.0\n",
      "66 x 5.0 = 330.0\n",
      "67 x 5.0 = 335.0\n",
      "68 x 5.0 = 340.0\n",
      "69 x 5.0 = 345.0\n",
      "70 x 5.0 = 350.0\n",
      "71 x 5.0 = 355.0\n",
      "72 x 5.0 = 360.0\n",
      "73 x 5.0 = 365.0\n",
      "74 x 5.0 = 370.0\n",
      "75 x 5.0 = 375.0\n",
      "76 x 5.0 = 380.0\n",
      "77 x 5.0 = 385.0\n",
      "78 x 5.0 = 390.0\n",
      "79 x 5.0 = 395.0\n",
      "80 x 5.0 = 400.0\n",
      "81 x 5.0 = 405.0\n",
      "82 x 5.0 = 410.0\n",
      "83 x 5.0 = 415.0\n",
      "84 x 5.0 = 420.0\n",
      "85 x 5.0 = 425.0\n",
      "86 x 5.0 = 430.0\n",
      "87 x 5.0 = 435.0\n",
      "88 x 5.0 = 440.0\n",
      "89 x 5.0 = 445.0\n",
      "90 x 5.0 = 450.0\n",
      "91 x 5.0 = 455.0\n",
      "92 x 5.0 = 460.0\n",
      "93 x 5.0 = 465.0\n",
      "94 x 5.0 = 470.0\n",
      "95 x 5.0 = 475.0\n",
      "96 x 5.0 = 480.0\n",
      "97 x 5.0 = 485.0\n",
      "98 x 5.0 = 490.0\n",
      "99 x 5.0 = 495.0\n",
      "100 x 5.0 = 500.0\n"
     ]
    }
   ],
   "source": [
    "x = float(input(\"Choisir un nombre :\"))\n",
    "for i in range(1,101):\n",
    "    print(i,\"x\",x,\"=\",i*x)"
   ]
  },
  {
   "cell_type": "markdown",
   "metadata": {},
   "source": [
    "## 3 - La boucle non bornée *while*"
   ]
  },
  {
   "cell_type": "markdown",
   "metadata": {},
   "source": [
    "Pour écrire certains programmes, il est parfois nécessaire de répéter une ou plusieurs instructions un **nombre inconnu de fois**. Lorsque le nombre de répétitions n'est pas connu à l'avance, on utilise une boucle non bornée qui est parcourue jusqu'à ce qu'une certaine condition ne soit plus vérifiée. Tant que cette condition est vérifiée, la boucle continue.\n",
    "\n",
    "**Syntaxe :**"
   ]
  },
  {
   "cell_type": "code",
   "execution_count": null,
   "metadata": {},
   "outputs": [],
   "source": [
    "while condition :\n",
    "    instruction(s)"
   ]
  },
  {
   "cell_type": "markdown",
   "metadata": {},
   "source": [
    "**Exemple :** On veut déterminer le plus petit entier naturel *n* tel que la somme de tous les nombres entiers de 0 à *n* soit strictement supérieure à 1000. Voici le script correspondant :"
   ]
  },
  {
   "cell_type": "code",
   "execution_count": 3,
   "metadata": {},
   "outputs": [
    {
     "name": "stdout",
     "output_type": "stream",
     "text": [
      "45\n",
      "1035\n"
     ]
    }
   ],
   "source": [
    "n = 0\n",
    "somme = 0\n",
    "while somme <= 1000 :\n",
    "    n = n + 1\n",
    "    somme = somme + n\n",
    "print(n)\n",
    "print(somme)"
   ]
  },
  {
   "cell_type": "markdown",
   "metadata": {},
   "source": [
    "### Exercice n°7"
   ]
  },
  {
   "cell_type": "markdown",
   "metadata": {},
   "source": [
    "On appelle suite de Syracuse une suite d’entiers naturels definie de la manière suivante :\n",
    "\n",
    "On part d’un nombre entier plus grand que zero ; s’il est pair, on le divise par 2 ; s’il est impair, on le multiplie par 3 et on ajoute 1. Cette suite finit par atteindre la valeur 1 quel que soit le nombre initial.\n",
    "\n",
    "Ecrire un script permettant d'afficher les termes de cette suite jusqu’à obtenir la valeur 1."
   ]
  },
  {
   "cell_type": "code",
   "execution_count": 28,
   "metadata": {},
   "outputs": [
    {
     "name": "stdout",
     "output_type": "stream",
     "text": [
      "U 0 = 15456\n",
      "U 1 = 7728.0\n",
      "U 2 = 3864.0\n",
      "U 3 = 1932.0\n",
      "U 4 = 966.0\n",
      "U 5 = 483.0\n",
      "U 6 = 1450.0\n",
      "U 7 = 725.0\n",
      "U 8 = 2176.0\n",
      "U 9 = 1088.0\n",
      "U 10 = 544.0\n",
      "U 11 = 272.0\n",
      "U 12 = 136.0\n",
      "U 13 = 68.0\n",
      "U 14 = 34.0\n",
      "U 15 = 17.0\n",
      "U 16 = 52.0\n",
      "U 17 = 26.0\n",
      "U 18 = 13.0\n",
      "U 19 = 40.0\n",
      "U 20 = 20.0\n",
      "U 21 = 10.0\n",
      "U 22 = 5.0\n",
      "U 23 = 16.0\n",
      "U 24 = 8.0\n",
      "U 25 = 4.0\n",
      "U 26 = 2.0\n",
      "U 27 = 1.0\n"
     ]
    }
   ],
   "source": [
    "n = 0\n",
    "u = 15456\n",
    "print(\"U\",n,\"=\",u)\n",
    "while u != 1 :\n",
    "    if u%2==0 :\n",
    "        u = u/2\n",
    "    else :\n",
    "        u = u*3+1\n",
    "    n = n + 1\n",
    "    print(\"U\",n,\"=\",u)"
   ]
  },
  {
   "cell_type": "markdown",
   "metadata": {},
   "source": [
    "## 4 - Exercices de synthèse"
   ]
  },
  {
   "cell_type": "markdown",
   "metadata": {},
   "source": [
    "### Exercice n°8 - étude d'un triangle"
   ]
  },
  {
   "cell_type": "markdown",
   "metadata": {},
   "source": [
    "Vous demandez les coordonnées de 3 points A, B, C du plan.\n",
    "Le programme doit vous «répondre»:\n",
    "\n",
    "- les points sont alignés (et le programme s'arrête là avec un avertissement)\n",
    "\n",
    "Ou\n",
    "\n",
    "- le triangle ABC est rectangle ou le triangle est isocèle....voire les deux à la fois!\n",
    "\n",
    "Et pour finir, dans tous les cas il vous donne les 3 côtés dans l'ordre croissant, exemple d'affichage: AB = AC < BC"
   ]
  },
  {
   "cell_type": "code",
   "execution_count": 41,
   "metadata": {},
   "outputs": [
    {
     "name": "stdout",
     "output_type": "stream",
     "text": [
      "Coordonnées du point A :\n",
      "xA =0\n",
      "yA =0\n",
      "Coordonnées du point B :\n",
      "xB =3\n",
      "yB =0\n",
      "Coordonnées du point C :\n",
      "xC =0\n",
      "yC =2\n",
      "le triangle est rectangle en A\n"
     ]
    }
   ],
   "source": [
    "print(\"Coordonnées du point A :\")\n",
    "xa = float(input(\"xA =\"))\n",
    "ya = float(input(\"yA =\"))\n",
    "print(\"Coordonnées du point B :\")\n",
    "xb = float(input(\"xB =\"))\n",
    "yb = float(input(\"yB =\"))\n",
    "print(\"Coordonnées du point C :\")\n",
    "xc = float(input(\"xC =\"))\n",
    "yc = float(input(\"yC =\"))\n",
    "xab = xb-xa\n",
    "yab = yb-ya\n",
    "xac = xc-xa\n",
    "yac = yc-ya\n",
    "xbc = xc-xb\n",
    "ybc = yc-yb\n",
    "ab2 = xab*xab+yab*yab\n",
    "ac2 = xac*xac+yac*yac\n",
    "bc2 = xbc*xbc+ybc*ybc\n",
    "if (xab*yac-xac*yab)==0 :\n",
    "    print(\"Attention ! ces trois points son alignés\")\n",
    "elif ab2==ac2==bc2 :\n",
    "    print(\"C'est un triangle équilatéral\")\n",
    "else :\n",
    "    if bc2==ac2+ab2 :\n",
    "        print (\"le triangle est rectangle en A\")\n",
    "        if ab2==ac2 :\n",
    "            print (\"le triangle est aussi isocèle en A\")\n",
    "    elif ac2==bc2+ab2 :\n",
    "        print (\"le triangle est rectangle en B\")\n",
    "        if ab2==bc2 :\n",
    "            print (\"le triangle est aussi isocèle en B\")\n",
    "    elif ab2==bc2+ac2 :\n",
    "        print (\"le triangle est rectangle en C\")\n",
    "        if ac2==bc2 :\n",
    "            print (\"le triangle est aussi isocèle en C\")\n",
    "    \n",
    "    "
   ]
  },
  {
   "cell_type": "markdown",
   "metadata": {},
   "source": [
    "### Exercice n°9 - Programme de jeu : le juste prix"
   ]
  },
  {
   "cell_type": "markdown",
   "metadata": {},
   "source": [
    "L'ordinateur choisit un nombre entier au hasard entre 10000 et 40000. Vous êtes chargés de deviner ce nombre le plus \n",
    "rapidement possible. L'ordinateur doit afficher:\n",
    "\n",
    "«Proposition n°1:», puis «Proposition n°2:»,..... Il vous répond par «C'est plus» ou «C'est moins».\n",
    "\n",
    "Il faut utiliser le module random et la fonction randrange:\n",
    "\n",
    "Au début du programme vous écrirez: **from random import randrange** (n'importe que la fonction randrange) ou **from random import * **(importe toutes les fonctions de hasard)\n",
    "\n",
    "Vous pouvez compléter ce programme avec un commentaire sur le score: «trop fort» ou «trop nul».... Vous pouvez aussi imposer un temps limite, en exploitant le module time!"
   ]
  },
  {
   "cell_type": "code",
   "execution_count": 61,
   "metadata": {},
   "outputs": [
    {
     "name": "stdout",
     "output_type": "stream",
     "text": [
      "19597\n",
      "A vous de deviner un nombre entre 10000 et 40000 !\n",
      "proposition n° 1\n",
      "Nombre :20000\n",
      "C'est moins !\n",
      "proposition n° 2\n",
      "Nombre :19597\n",
      "BRAVO ! c'est gagné !\n",
      "nombre de tentatives : 2\n"
     ]
    }
   ],
   "source": [
    "from random import *\n",
    "xrand = randrange(10000,40000)\n",
    "print(xrand)\n",
    "print(\"A vous de deviner un nombre entre 10000 et 40000 !\")\n",
    "x=1\n",
    "n=1\n",
    "while x!=xrand :\n",
    "    print(\"proposition n°\",n)\n",
    "    x = int(input(\"Nombre :\"))\n",
    "    if x>xrand :\n",
    "        print(\"C'est moins !\")\n",
    "    elif x==xrand :\n",
    "        print(\"BRAVO ! c'est gagné !\")\n",
    "        print(\"nombre de tentatives :\",n)\n",
    "    else :\n",
    "        print(\"C'est plus !\")\n",
    "    n=n+1\n",
    "\n",
    "\n",
    "\n"
   ]
  }
 ],
 "metadata": {
  "kernelspec": {
   "display_name": "Python 3",
   "language": "python",
   "name": "python3"
  },
  "language_info": {
   "codemirror_mode": {
    "name": "ipython",
    "version": 3
   },
   "file_extension": ".py",
   "mimetype": "text/x-python",
   "name": "python",
   "nbconvert_exporter": "python",
   "pygments_lexer": "ipython3",
   "version": "3.6.6"
  }
 },
 "nbformat": 4,
 "nbformat_minor": 2
}
