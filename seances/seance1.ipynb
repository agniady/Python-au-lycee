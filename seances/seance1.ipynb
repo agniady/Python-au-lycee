{
 "cells": [
  {
   "cell_type": "markdown",
   "metadata": {},
   "source": [
    "# Séance n°1 : variables numériques, opérations, entrées et affichage"
   ]
  },
  {
   "cell_type": "markdown",
   "metadata": {},
   "source": [
    "Avant de commencer à coder, je vais vous expliquer rapidement comment enregistrer votre travail :\n",
    "\n",
    "Dans la barre de menu, cliquez d'abord sur **\"File > Rename...\"** pour renommer le fichier au format **\"seance1-nom1-nom2\"**.\n",
    "\n",
    "Ensuite cliquez sur **\"File > Download as > Python (.py)\"** pour télécharger le fichier au format Python. Avec ce format, vous pourrez réutiliser votre programme Python n'importe où.\n",
    "\n",
    "Faites l'essai tout de suite pour ne pas être pris de court en fin de séance !"
   ]
  },
  {
   "cell_type": "markdown",
   "metadata": {},
   "source": [
    "## 1 - Variables, affectations et opérations"
   ]
  },
  {
   "cell_type": "markdown",
   "metadata": {},
   "source": [
    "Un programme informatique contient des instructions qui utilisent des **variables**. Une variable est comme une boite qui permet de conserver dans le temps des données du programme (nombre, valeur entrée par lʼutilisateur, mot...) en les stockant dans la mémoire de lʼordinateur.\n",
    "Pour stocker une valeur dans la variable, on écrit une instruction dʼaffectation. **En langage Python, lʼaffectation se fait avec le signe \"=\"**.\n",
    "Le nom dʼune variable ne doit pas contenir dʼespace. Les nombres décimaux sʼécrivent **avec un point** et non avec une virgule.\n",
    "\n",
    "Voici quelques exemples :"
   ]
  },
  {
   "cell_type": "code",
   "execution_count": 1,
   "metadata": {},
   "outputs": [],
   "source": [
    "a = 22\n",
    "b = 6\n",
    "rayon = 4.5\n",
    "coef_directeur = -3\n",
    "nom = \"GNIADY\"\n",
    "prenom = \"Arnaud\""
   ]
  },
  {
   "cell_type": "markdown",
   "metadata": {},
   "source": [
    "Voici les **opérations** de base avec les variables numériques :\n",
    "\n",
    "| Symbole | opération ||\n",
    "|----|---||\n",
    "| +  | Addition ||\n",
    "| -  | Soustraction ||\n",
    "| *  | multiplication ||\n",
    "| /  | division ||\n",
    "| %  | reste de la division euclidienne ||\n",
    "| //  | quotient de la division euclidienne ||\n",
    "| **  | à la puissance ||\n",
    "| sqrt()  | racine carré |nécessite \"from math import *\"|"
   ]
  },
  {
   "cell_type": "markdown",
   "metadata": {},
   "source": [
    "Enfin, dans un programme, il est parfois intéressant dʼafficher sur lʼécran de lʼordinateur des résultats ou des phrases\n",
    "réponses.\n",
    "La fonction **print()** permet lʼaffichage du contenu entre parenthèses.\n",
    "\n",
    "Voici des exemples. Pour exécuter les scripts suivants, il suffit de cliquer sur la cellule du script puis sur l'icône **Run** de la barre d'outils (raccourci : **Maj+Entrée**)\n",
    "\n"
   ]
  },
  {
   "cell_type": "code",
   "execution_count": 2,
   "metadata": {},
   "outputs": [
    {
     "name": "stdout",
     "output_type": "stream",
     "text": [
      "500\n"
     ]
    }
   ],
   "source": [
    "longueur = 50\n",
    "largeur = 10\n",
    "aire_rectangle = longueur*largeur\n",
    "print(aire_rectangle)"
   ]
  },
  {
   "cell_type": "markdown",
   "metadata": {},
   "source": [
    "Vous pouvez modifier le code comme bon vous semble. Changez par exemple les valeurs de la longueur et de la largeur...\n",
    "\n",
    "D'autres exemples :"
   ]
  },
  {
   "cell_type": "code",
   "execution_count": 3,
   "metadata": {},
   "outputs": [
    {
     "name": "stdout",
     "output_type": "stream",
     "text": [
      "28.274333882308138\n"
     ]
    }
   ],
   "source": [
    "from math import pi\n",
    "rayon = 3\n",
    "aire_disque = pi*rayon**2\n",
    "print(aire_disque)"
   ]
  },
  {
   "cell_type": "code",
   "execution_count": 4,
   "metadata": {},
   "outputs": [
    {
     "name": "stdout",
     "output_type": "stream",
     "text": [
      "1.0\n"
     ]
    }
   ],
   "source": [
    "from math import sqrt\n",
    "a=sqrt(35)-1\n",
    "b=(sqrt(35)+1)/34\n",
    "print(a*b)"
   ]
  },
  {
   "cell_type": "markdown",
   "metadata": {},
   "source": [
    "### **Exercice n°1 :**\n",
    "\n",
    "En 2017, environ 94% de la population française possédait un téléphone portable. La population française est estimée à 66 990 826 habitants en 2017.\n",
    "En utilisant la console Python, calculer le nombre d'habitants possédant un téléphone portable en france."
   ]
  },
  {
   "cell_type": "code",
   "execution_count": null,
   "metadata": {},
   "outputs": [],
   "source": [
    "\n",
    "\n"
   ]
  },
  {
   "cell_type": "markdown",
   "metadata": {},
   "source": [
    "\n",
    "\n",
    "\n",
    "\n",
    "### **Exercice n°2 :**\n",
    "\n",
    "Affecter les valeurs 5 ; 12,3 et 25 à trois variables a, b, c, puis faire écrire le résultat de \n",
    "\\begin{equation}\n",
    "2a-3(b-\\sqrt{c})\n",
    "\\end{equation}"
   ]
  },
  {
   "cell_type": "code",
   "execution_count": null,
   "metadata": {},
   "outputs": [],
   "source": [
    "\n",
    "\n"
   ]
  },
  {
   "cell_type": "markdown",
   "metadata": {},
   "source": [
    "\n",
    "\n",
    "### **Exercice n°3 :**\n",
    "\n",
    "Affecter la valeur 3 à une variable notée *x* puis déterminer le résultat de\n",
    "\\begin{equation}\n",
    "2x^3-3x^2+4x-\\frac{1}{3}\n",
    "\\end{equation}"
   ]
  },
  {
   "cell_type": "code",
   "execution_count": null,
   "metadata": {},
   "outputs": [],
   "source": [
    "\n",
    "\n"
   ]
  },
  {
   "cell_type": "markdown",
   "metadata": {},
   "source": [
    "\n",
    "### **Exercice n°4 :**\n",
    "\n",
    "La lune a un rayon d'environ 1737 km. On affecte cette valeur à une variable *lune*.\n",
    "Quel est le volume de la lune?"
   ]
  },
  {
   "cell_type": "code",
   "execution_count": null,
   "metadata": {},
   "outputs": [],
   "source": [
    "\n",
    "\n"
   ]
  },
  {
   "cell_type": "markdown",
   "metadata": {},
   "source": [
    "# 2 - L'entrée des valeurs par l'utilisateur"
   ]
  },
  {
   "cell_type": "markdown",
   "metadata": {},
   "source": [
    "Lors de l'écriture d'un programme informatique, il est possible d'utiliser des instructions qui permettent d'avoir une **interaction entre l'ordinateur et l'utilisateur**. Le programme commence alors par afficher une phrase à destination de l'utilisateur pour qu'il entre la donnée demandée dans la zone de saisie afin que le script continue son exécution."
   ]
  },
  {
   "cell_type": "code",
   "execution_count": 10,
   "metadata": {},
   "outputs": [
    {
     "name": "stdout",
     "output_type": "stream",
     "text": [
      "Entrer le nombre de frères et soeurs : 2\n"
     ]
    }
   ],
   "source": [
    "n = int(input(\"Entrer le nombre de frères et soeurs : \"))"
   ]
  },
  {
   "cell_type": "markdown",
   "metadata": {},
   "source": [
    "La phrase \"Entrer le nombre de frères et soeurs :\" apparaît à l'écran grâce à la fonction **input()**. La fonction **int()** est utilisée pour demander un nombre entier. Ce nombre est stocké dans la variable n.\n",
    "\n",
    "| Fonction | type de donnée ||\n",
    "|----|---||\n",
    "| int()  | nombre entier ||\n",
    "| float()  | nombre réel ||\n",
    "| eval()  | nombre réel sqrt(1/5) ou 1/6...  |nécessite \"from math import *\"|\n",
    "| str()  | chaîne de caractères ||"
   ]
  },
  {
   "cell_type": "code",
   "execution_count": 11,
   "metadata": {},
   "outputs": [
    {
     "name": "stdout",
     "output_type": "stream",
     "text": [
      "Entrer un nombre réel : 3.5\n"
     ]
    }
   ],
   "source": [
    "from math import *\n",
    "x = eval(input(\"Entrer un nombre réel : \"))"
   ]
  },
  {
   "cell_type": "code",
   "execution_count": 12,
   "metadata": {},
   "outputs": [
    {
     "name": "stdout",
     "output_type": "stream",
     "text": [
      "Quel est votre nom? dupont\n"
     ]
    }
   ],
   "source": [
    "nom = str(input(\"Quel est votre nom? \"))"
   ]
  },
  {
   "cell_type": "markdown",
   "metadata": {},
   "source": [
    "\n",
    "### **Exercice n°5 :**\n",
    "\n",
    "On considère la fonction *f* définie sur R par :\n",
    "\\begin{equation}\n",
    "f(x) = 2x^3-3x^2+4x-\\frac{1}{3}\n",
    "\\end{equation}\n",
    "Ecrire un programme qui demande à l'utilisateur de rentrer un nombre réél et qui affiche ensuite l'image de ce nombre par *f*"
   ]
  },
  {
   "cell_type": "code",
   "execution_count": null,
   "metadata": {},
   "outputs": [],
   "source": [
    "\n",
    "\n"
   ]
  },
  {
   "cell_type": "markdown",
   "metadata": {},
   "source": [
    "\n",
    "### **Exercice n°6 :**\n",
    "\n",
    "Ecrire un programme qui, à partir des coordonées des points A et B entrées par l'utilisateur, affiche l'équation réduite de la droite (AB)."
   ]
  },
  {
   "cell_type": "code",
   "execution_count": null,
   "metadata": {},
   "outputs": [],
   "source": [
    "\n",
    "\n",
    "\n",
    "\n"
   ]
  },
  {
   "cell_type": "markdown",
   "metadata": {},
   "source": [
    "### Pensez à sauvegarder votre travail !"
   ]
  },
  {
   "cell_type": "markdown",
   "metadata": {},
   "source": [
    "Programmation libre :"
   ]
  },
  {
   "cell_type": "code",
   "execution_count": null,
   "metadata": {},
   "outputs": [],
   "source": [
    "\n",
    "\n",
    "\n"
   ]
  }
 ],
 "metadata": {
  "kernelspec": {
   "display_name": "Python 3",
   "language": "python",
   "name": "python3"
  },
  "language_info": {
   "codemirror_mode": {
    "name": "ipython",
    "version": 3
   },
   "file_extension": ".py",
   "mimetype": "text/x-python",
   "name": "python",
   "nbconvert_exporter": "python",
   "pygments_lexer": "ipython3",
   "version": "3.6.6"
  }
 },
 "nbformat": 4,
 "nbformat_minor": 2
}
