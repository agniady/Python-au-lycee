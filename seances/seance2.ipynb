{
 "cells": [
  {
   "cell_type": "markdown",
   "metadata": {},
   "source": [
    "# Séance n°2 et 3 : if (si), for (pour), while (tant que)"
   ]
  },
  {
   "cell_type": "markdown",
   "metadata": {},
   "source": [
    "## 1 - L'instruction conditionnelle *if*"
   ]
  },
  {
   "cell_type": "markdown",
   "metadata": {},
   "source": [
    "Pour aiguiller dans différentes directions lʼexécution dʼun programme, il est possible dʼavoir recours à des **instructions conditionnelles** qui permettent de déterminer si les instructions qui suivent doivent être, ou non, exécutées. Pour cela, le mot clé **if** est utilisé en Python. Voici quelques exemples."
   ]
  },
  {
   "cell_type": "markdown",
   "metadata": {},
   "source": [
    "### Une seule condition"
   ]
  },
  {
   "cell_type": "code",
   "execution_count": 2,
   "metadata": {},
   "outputs": [
    {
     "name": "stdout",
     "output_type": "stream",
     "text": [
      "Entrer un nombre entier : 6\n",
      "12\n"
     ]
    }
   ],
   "source": [
    "n = int(input(\"Entrer un nombre entier : \"))\n",
    "if n>=3:\n",
    "    m=2*n\n",
    "    print(m)"
   ]
  },
  {
   "cell_type": "markdown",
   "metadata": {},
   "source": [
    "### Une condition et une alternative"
   ]
  },
  {
   "cell_type": "code",
   "execution_count": 3,
   "metadata": {},
   "outputs": [
    {
     "name": "stdout",
     "output_type": "stream",
     "text": [
      "Entrer un nombre entier : 2\n",
      "7\n"
     ]
    }
   ],
   "source": [
    "n = int(input(\"Entrer un nombre entier : \"))\n",
    "if n>=3:\n",
    "    m=2*n\n",
    "    print(m)\n",
    "else:\n",
    "    m=3*n+1\n",
    "    print(m)"
   ]
  },
  {
   "cell_type": "markdown",
   "metadata": {},
   "source": [
    "### Deux conditions ou plus"
   ]
  },
  {
   "cell_type": "code",
   "execution_count": 4,
   "metadata": {},
   "outputs": [
    {
     "name": "stdout",
     "output_type": "stream",
     "text": [
      "Entrer un nombre entier : 3\n",
      "-1\n"
     ]
    }
   ],
   "source": [
    "n = int(input(\"Entrer un nombre entier : \"))\n",
    "if n<=2:\n",
    "    m=2*n\n",
    "    print(m)\n",
    "elif 2<n<5:\n",
    "    m=-2*n+5\n",
    "    print(m)\n",
    "else:\n",
    "    m=n**2\n",
    "    print(m)"
   ]
  },
  {
   "cell_type": "markdown",
   "metadata": {},
   "source": [
    "Les mots clés « alors » et « finsi » nʼexistent pas en Python. Cʼest lʼindentation, cʼest à dire le décalage automatique du retour à la ligne vers la droite qui les remplace.\n",
    "\n",
    "**Pour tester l'égalité de deux valeurs en python on peut utiliser le signe \"==\" :**"
   ]
  },
  {
   "cell_type": "code",
   "execution_count": 5,
   "metadata": {},
   "outputs": [
    {
     "name": "stdout",
     "output_type": "stream",
     "text": [
      "Entrer votre nom en majuscules : GNIADY\n",
      "Bonjour maître\n"
     ]
    }
   ],
   "source": [
    "nom = str(input(\"Entrer votre nom en majuscules : \"))\n",
    "if nom == \"GNIADY\" :\n",
    "    print(\"Bonjour maître\")\n",
    "else:\n",
    "    print(\"salut l'inconnu\")"
   ]
  },
  {
   "cell_type": "code",
   "execution_count": 6,
   "metadata": {},
   "outputs": [
    {
     "name": "stdout",
     "output_type": "stream",
     "text": [
      "Entrer un nombre entier : 9\n",
      "9 n'est pas divisible par 5\n"
     ]
    }
   ],
   "source": [
    "n = int(input(\"Entrer un nombre entier : \"))\n",
    "if n%5==0:\n",
    "    print(n,\"est divisible par 5\")\n",
    "else:\n",
    "    print(n,\"n'est pas divisible par 5\")"
   ]
  },
  {
   "cell_type": "markdown",
   "metadata": {},
   "source": [
    "### Exercice n°1"
   ]
  },
  {
   "cell_type": "markdown",
   "metadata": {},
   "source": [
    "Dans une école de rugby, il y a quatres groupes :\n",
    "- le groupe U8 pour les joueurs entre 8 ans inclus et 10 ans exclus;\n",
    "- le groupe U10 pour les joueurs entre 10 ans inclus et 12 ans exclus;\n",
    "- le groupe U12 pour les joueurs entre 12 ans inclus et 14 ans exclus;\n",
    "- le groupe U14 pour les joueurs entre 14 ans inclus et 16 ans exclus;\n",
    "\n",
    "Ecrire un script demandant à l'utilisateur son âge et lui affichant le groupe auquel il appartient."
   ]
  },
  {
   "cell_type": "code",
   "execution_count": null,
   "metadata": {},
   "outputs": [],
   "source": [
    "\n",
    "\n"
   ]
  },
  {
   "cell_type": "markdown",
   "metadata": {},
   "source": [
    "### Exercice n°2"
   ]
  },
  {
   "cell_type": "markdown",
   "metadata": {},
   "source": [
    "1) Ecrire un script qui retourne «nul» si le nombre réel choisi par l'utilisateur est nul et lʼinverse du nombre réel *x* sʼil est non nul.\n",
    "\n",
    "2) La fonction **round(variable,nombre_de_decimales)** affiche le nombre de decimales souhaite pour la variable. Modifier le script pour que la variable soit arrondie à 10^-3"
   ]
  },
  {
   "cell_type": "code",
   "execution_count": null,
   "metadata": {},
   "outputs": [],
   "source": [
    "\n",
    "\n",
    "\n"
   ]
  },
  {
   "cell_type": "markdown",
   "metadata": {},
   "source": [
    "### Exercice n°3"
   ]
  },
  {
   "cell_type": "markdown",
   "metadata": {},
   "source": [
    "On donne la fonction affine par morceau *f* definie par :\n",
    "\\begin{equation}\n",
    "f(x) =\n",
    "\\begin{cases} 2x+1 \\quad si\\, x<-1\\\\ -x+2 \\quad si\\, -1\\le x\\leq0\\\\ -3x+2 \\quad si\\, x>0\\end{cases}\n",
    "\\end{equation}\n",
    "Ecrire un script permettant de calculer lʼimage dʼun nombre x par *f*."
   ]
  },
  {
   "cell_type": "code",
   "execution_count": null,
   "metadata": {},
   "outputs": [],
   "source": [
    "\n",
    "\n",
    "\n"
   ]
  },
  {
   "cell_type": "markdown",
   "metadata": {},
   "source": [
    "## 2 - La boucle bornée *for*"
   ]
  },
  {
   "cell_type": "markdown",
   "metadata": {},
   "source": [
    "Il est parfois utile dans un programme de repeter une ou plusieurs instructions un nombre défini de fois. Lorsque le nombre de répétitions **est connu à l'avance**, on utilise une boucle bornee **for**.\n",
    "\n",
    "**Syntaxe :**\n",
    "\n",
    "For variable in range():\n",
    "\n",
    "Instruction(s)\n",
    "\n",
    "La fonction range() permet dʼénumérer le nombre de passages dans la boucle. Elle peut être appelée de plusieurs façons :\n",
    "\n",
    "- Range(n), ou n est un entier, fait prendre à la variable les valeurs de 0 à n-1, donc n passages dans la boucle.\n",
    "- Range(n,m), fait prendre les valeurs entieres de n à m-1\n",
    "- Range(n,m,k), fait prendre les valeurs de n à m-1 avec un pas de k."
   ]
  },
  {
   "cell_type": "code",
   "execution_count": 12,
   "metadata": {},
   "outputs": [
    {
     "name": "stdout",
     "output_type": "stream",
     "text": [
      "0\n",
      "1\n",
      "2\n",
      "3\n",
      "4\n"
     ]
    }
   ],
   "source": [
    "for i in range(5):\n",
    "    print(i)"
   ]
  },
  {
   "cell_type": "code",
   "execution_count": 13,
   "metadata": {},
   "outputs": [
    {
     "name": "stdout",
     "output_type": "stream",
     "text": [
      "12\n",
      "13\n",
      "14\n",
      "15\n"
     ]
    }
   ],
   "source": [
    "for i in range(12,16):\n",
    "    print(i)"
   ]
  },
  {
   "cell_type": "code",
   "execution_count": 15,
   "metadata": {},
   "outputs": [
    {
     "name": "stdout",
     "output_type": "stream",
     "text": [
      "0\n",
      "10\n",
      "20\n",
      "30\n",
      "40\n",
      "50\n",
      "60\n",
      "70\n",
      "80\n",
      "90\n"
     ]
    }
   ],
   "source": [
    "for i in range(0,100,10):\n",
    "    print(i)"
   ]
  },
  {
   "cell_type": "markdown",
   "metadata": {},
   "source": [
    "### Exercice n°4"
   ]
  },
  {
   "cell_type": "markdown",
   "metadata": {},
   "source": [
    "Ecrire un programme qui affiche la table de multiplication de 5 sous la forme \n",
    "\n",
    "5 x 1 = 5\n",
    "\n",
    "5 x 2 = 10\n",
    "\n",
    "..."
   ]
  },
  {
   "cell_type": "code",
   "execution_count": null,
   "metadata": {},
   "outputs": [],
   "source": [
    "\n",
    "\n",
    "\n"
   ]
  },
  {
   "cell_type": "markdown",
   "metadata": {},
   "source": [
    "### Exercice n°5"
   ]
  },
  {
   "cell_type": "markdown",
   "metadata": {},
   "source": [
    "On veut écrire un script qui compte de nombre de \"a\" dans une phrase. Compléter le script suivant :"
   ]
  },
  {
   "cell_type": "code",
   "execution_count": 2,
   "metadata": {},
   "outputs": [
    {
     "ename": "SyntaxError",
     "evalue": "invalid syntax (<ipython-input-2-9f5e16fdbb8b>, line 4)",
     "output_type": "error",
     "traceback": [
      "\u001b[0;36m  File \u001b[0;32m\"<ipython-input-2-9f5e16fdbb8b>\"\u001b[0;36m, line \u001b[0;32m4\u001b[0m\n\u001b[0;31m    if        :\u001b[0m\n\u001b[0m              ^\u001b[0m\n\u001b[0;31mSyntaxError\u001b[0m\u001b[0;31m:\u001b[0m invalid syntax\n"
     ]
    }
   ],
   "source": [
    "phrase = \"j'aime les maaaaaths\"\n",
    "nbre_de_a = 0\n",
    "for lettre in phrase :\n",
    "    if        :\n",
    "        nbre_de_a = \n",
    "print(         )"
   ]
  },
  {
   "cell_type": "markdown",
   "metadata": {},
   "source": [
    "### Exercice n°6"
   ]
  },
  {
   "cell_type": "markdown",
   "metadata": {},
   "source": [
    "Ecrire un programme qui affiche les 100 premiers multiples d'un nombre choisi par l'utilisateur."
   ]
  },
  {
   "cell_type": "code",
   "execution_count": null,
   "metadata": {},
   "outputs": [],
   "source": [
    "\n",
    "\n",
    "\n"
   ]
  },
  {
   "cell_type": "markdown",
   "metadata": {},
   "source": [
    "## 3 - La boucle non bornée *while*"
   ]
  },
  {
   "cell_type": "markdown",
   "metadata": {},
   "source": [
    "Pour écrire certains programmes, il est parfois nécessaire de répéter une ou plusieurs instructions un **nombre inconnu de fois**. Lorsque le nombre de répétitions n'est pas connu à l'avance, on utilise une boucle non bornée qui est parcourue jusqu'à ce qu'une certaine condition ne soit plus vérifiée. Tant que cette condition est vérifiée, la boucle continue.\n",
    "\n",
    "**Syntaxe :**"
   ]
  },
  {
   "cell_type": "code",
   "execution_count": null,
   "metadata": {},
   "outputs": [],
   "source": [
    "while condition :\n",
    "    instruction(s)"
   ]
  },
  {
   "cell_type": "markdown",
   "metadata": {},
   "source": [
    "**Exemple :** On veut déterminer le plus petit entier naturel *n* tel que la somme de tous les nombres entiers de 0 à *n* soit strictement supérieure à 1000. Voici le script correspondant :"
   ]
  },
  {
   "cell_type": "code",
   "execution_count": 3,
   "metadata": {},
   "outputs": [
    {
     "name": "stdout",
     "output_type": "stream",
     "text": [
      "45\n",
      "1035\n"
     ]
    }
   ],
   "source": [
    "n = 0\n",
    "somme = 0\n",
    "while somme <= 1000 :\n",
    "    n = n + 1\n",
    "    somme = somme + n\n",
    "print(n)\n",
    "print(somme)"
   ]
  },
  {
   "cell_type": "markdown",
   "metadata": {},
   "source": [
    "### Exercice n°7"
   ]
  },
  {
   "cell_type": "markdown",
   "metadata": {},
   "source": [
    "On appelle suite de Syracuse une suite d’entiers naturels definie de la manière suivante :\n",
    "\n",
    "On part d’un nombre entier plus grand que zero ; s’il est pair, on le divise par 2 ; s’il est impair, on le multiplie par 3 et on ajoute 1. Cette suite finit par atteindre la valeur 1 quel que soit le nombre initial.\n",
    "\n",
    "Ecrire un script permettant d'afficher les termes de cette suite jusqu’à obtenir la valeur 1."
   ]
  },
  {
   "cell_type": "code",
   "execution_count": null,
   "metadata": {},
   "outputs": [],
   "source": [
    "\n",
    "\n",
    "\n"
   ]
  },
  {
   "cell_type": "markdown",
   "metadata": {},
   "source": [
    "## 4 - Exercices de synthèse"
   ]
  },
  {
   "cell_type": "markdown",
   "metadata": {},
   "source": [
    "### Exercice n°8 - étude d'un triangle"
   ]
  },
  {
   "cell_type": "markdown",
   "metadata": {},
   "source": [
    "Vous demandez les coordonnées de 3 points A, B, C du plan.\n",
    "Le programme doit vous «répondre»:\n",
    "\n",
    "- les points sont alignés (et le programme s'arrête là avec un avertissement)\n",
    "\n",
    "Ou\n",
    "\n",
    "- le triangle ABC est rectangle ou le triangle est isocèle....voire les deux à la fois!\n",
    "\n",
    "Et pour finir, dans tous les cas il vous donne les 3 côtés dans l'ordre croissant, exemple d'affichage: AB = AC < BC"
   ]
  },
  {
   "cell_type": "code",
   "execution_count": null,
   "metadata": {},
   "outputs": [],
   "source": [
    "\n",
    "\n",
    "\n",
    "\n",
    "    "
   ]
  },
  {
   "cell_type": "markdown",
   "metadata": {},
   "source": [
    "### Exercice n°9 - Programme de jeu : le juste prix"
   ]
  },
  {
   "cell_type": "markdown",
   "metadata": {},
   "source": [
    "L'ordinateur choisit un nombre entier au hasard entre 10000 et 40000. Vous êtes chargés de deviner ce nombre le plus \n",
    "rapidement possible. L'ordinateur doit afficher:\n",
    "\n",
    "«Proposition n°1:», puis «Proposition n°2:»,..... Il vous répond par «C'est plus» ou «C'est moins».\n",
    "\n",
    "Il faut utiliser le module random et la fonction randrange:\n",
    "\n",
    "Au début du programme vous écrirez: **from random import randrange** (n'importe que la fonction randrange) ou **from random import * **(importe toutes les fonctions de hasard)\n",
    "\n",
    "Vous pouvez compléter ce programme avec un commentaire sur le score: «trop fort» ou «trop nul».... Vous pouvez aussi imposer un temps limite, en exploitant le module time!"
   ]
  },
  {
   "cell_type": "code",
   "execution_count": null,
   "metadata": {},
   "outputs": [],
   "source": [
    "\n",
    "\n",
    "\n",
    "\n"
   ]
  }
 ],
 "metadata": {
  "kernelspec": {
   "display_name": "Python 3",
   "language": "python",
   "name": "python3"
  },
  "language_info": {
   "codemirror_mode": {
    "name": "ipython",
    "version": 3
   },
   "file_extension": ".py",
   "mimetype": "text/x-python",
   "name": "python",
   "nbconvert_exporter": "python",
   "pygments_lexer": "ipython3",
   "version": "3.6.6"
  }
 },
 "nbformat": 4,
 "nbformat_minor": 2
}
